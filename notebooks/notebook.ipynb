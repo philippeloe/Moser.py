{
 "cells": [
  {
   "cell_type": "markdown",
   "metadata": {},
   "source": [
    "# Welcome to **MOSER.py** !"
   ]
  },
  {
   "cell_type": "markdown",
   "metadata": {},
   "source": [
    "Welcome to **MOSER.py**, a powerful physical chemistry calculator designed for use within Jupyter Notebooks. **MOSER.py** simplifies complex chemical calculations, providing accurate and efficient solutions. This tool enhances learning, allowing you to focus on understanding and exploring chemical phenomena. In the following, the main functionalities of this versatile Python package will be explained interactively with interesting examples. Learn also about the basic **MOSER.py** mechanisms."
   ]
  },
  {
   "cell_type": "markdown",
   "metadata": {},
   "source": [
    "💡**Initialize this notebook** <br>\n",
    "To import all needed Python files, please execute the cell below."
   ]
  },
  {
   "cell_type": "code",
   "execution_count": null,
   "metadata": {},
   "outputs": [],
   "source": [
    "import os\n",
    "import sys\n",
    "current_dir = os.getcwd()\n",
    "target_dir_relative = os.path.join('..', \"src\", \"moser\")\n",
    "target_dir_absolute = os.path.abspath(os.path.join(current_dir, target_dir_relative))\n",
    "sys.path.append(target_dir_absolute)"
   ]
  },
  {
   "cell_type": "markdown",
   "metadata": {},
   "source": [
    "## 1. Loading a File or Entering Data"
   ]
  },
  {
   "cell_type": "markdown",
   "metadata": {},
   "source": [
    "In our computational chemistry project, we have designed a versatile tool that empowers you to work with concentration-time data effortlessly. Whether you're exploring reaction kinetics, studying chemical reactions, or conducting complex analyses, our tool puts you in control."
   ]
  },
  {
   "cell_type": "markdown",
   "metadata": {},
   "source": [
    "### 1.1 Reading a File"
   ]
  },
  {
   "cell_type": "markdown",
   "metadata": {},
   "source": [
    "The *read_file_concentration* function is designed to read concentration-time data from a file specified by the user. The data in the file should have a specific format where each line contains a time value and a concentration value separated by a space. The function returns these values as two separate lists.The function takes one argument, *name_file*, which is a string representing the name of the file containing the data.\n",
    "\n",
    "📩**Initialize:**<br>\n",
    "Two empty lists, times and concentrations, are initialized to store the time and concentration values that will be read from the file.\n",
    "\n",
    "🤖**Flexibility and Error Handling:**<br>\n",
    "The function is designed to be flexible and user-friendly. It includes error handling to manage cases where the file is not found and allows the user to re-enter the file name. It also provides a mechanism to standardize the time units to seconds, accommodating different units that the user might have in their data file.\n",
    "\n",
    "⚙️**How Does it Work?**<br>\n",
    "*File Reading Loop:*<br>\n",
    "The function enters a loop to repeatedly attempt to read the file. It tries to open the specified file and read its contents. The first line of the file, which is assumed to contain headers, is skipped. For each subsequent line, the function splits the line into two values, converts them to floats, and appends them to the respective lists. If the file is not found, an error message is displayed, prompting the user to re-enter the file name. The loop continues until a valid file is read successfully.\n",
    "\n",
    "*Check and Convert Time Units:*<br>\n",
    "After successfully reading the data, the function asks the user if the time units in the file are in seconds.\n",
    "If the user confirms that the units are in seconds, the function proceeds. If the user indicates that the units are not in seconds, the function asks the user to specify the actual units (minutes, hours, or days). Based on the user's input, the function converts the time values to seconds by multiplying them by the appropriate factor (60 for minutes, 3600 for hours, 86400 for days).\n",
    "\n",
    "🔁**Return the Data:**<br>\n",
    "Finally, the function returns a tuple containing the two lists: times and concentrations.\n",
    "\n",
    "🚀**Let's Explore How this Function Works and See Examples of it in Action.** <br>\n",
    "Execute the cell below to import, for example, the file *A_instantaneous_speed_and_read_file.txt*:"
   ]
  },
  {
   "cell_type": "code",
   "execution_count": null,
   "metadata": {},
   "outputs": [],
   "source": [
    "from read_file_and_enter_data import read_file_concentration\n",
    "read_file_concentration(\"A_instantaneous_speed_and_read_file.txt\")"
   ]
  },
  {
   "cell_type": "markdown",
   "metadata": {},
   "source": [
    "### 1.2 Manually Enter Concentration Data"
   ]
  },
  {
   "cell_type": "markdown",
   "metadata": {},
   "source": [
    "The *manually_enter_concentration* function allows users to manually input concentration-time data. This is useful when the data is not available in a file or when the user prefers to input the data interactively.\n",
    "\n",
    "📩**Initialize Lists:**<br>\n",
    "Two empty lists, times and concentrations, are initialized to store the time and concentration values that the user will input. The user inputs a pair of values separated by a comma. If the user types 'end', the function calls the spacing function to print a separator and breaks out of the loop. The function attempts to split the input into two parts, convert them to floating-point numbers, and append them to the respective lists. If the input is invalid (i.e., not two numbers separated by a comma), the function catches the error, prints an error message, and prompts the user to try again.\n",
    "\n",
    "🤖**Flexibility and Error Handling:**<br>\n",
    "The function is designed to be interactive and user-friendly. It provides clear instructions for input and handles errors gracefully by prompting the user to re-enter the values if they make a mistake. This ensures that the data entered is in the correct format and can be used for further processing.\n",
    "\n",
    "🔁**Return the Data:**<br>\n",
    "After the user has finished inputting data, the function returns a tuple containing the times and concentrations lists.\n",
    "    \n",
    "🚀**Let's Explore How this Function Works and See Examples of it in Action.** <br>\n",
    "Execute the cell below:"
   ]
  },
  {
   "cell_type": "code",
   "execution_count": null,
   "metadata": {},
   "outputs": [],
   "source": [
    "from read_file_and_enter_data import manually_enter_concentration\n",
    "manually_enter_concentration()"
   ]
  },
  {
   "cell_type": "markdown",
   "metadata": {},
   "source": [
    "## 2. Calculating Reaction Quotient"
   ]
  },
  {
   "cell_type": "markdown",
   "metadata": {},
   "source": [
    "### 2.1 By Using Concentration and Pressure"
   ]
  },
  {
   "cell_type": "markdown",
   "metadata": {},
   "source": [
    "The *calculate_concentration_constant* function is designed to calculate the reaction quotient using the concentrations and pressures of reactants and products in a chemical reaction. The reaction quotient is a dimensionless number that provides a snapshot of the relative amounts of reactants and products present during a reaction at a given point in time.\n",
    "\n",
    "📩**Initialize:**<br>\n",
    "*Fetch Number of Reactants and Products:*<br>\n",
    "The function calls another function, *reactants_products*, to obtain the number of reactants and products involved in the reaction. This is essential to know how many activities need to be collected.\n",
    "\n",
    "*Initialize Lists for Activities:*<br>\n",
    "Two empty lists, *reactant_activities* and *product_activities*, are initialized to store the activity values of the reactants and products, respectively.\n",
    "\n",
    "\n",
    "⚙️**How does it work?**<br>\n",
    "*Calculate Activities for Reactants:*<br>\n",
    "The function *activities_concentration* is called, passing the number of reactants, the empty *reactant_activities* list, and a flag (0) indicating that these are reactants. This function collects and calculates the activities (concentrations or partial pressures) for each reactant and populates the *reactant_activities* list.\n",
    "\n",
    "*Calculate Activities for Products:*<br>\n",
    "Similarly, the function *activities_concentration* is called again, this time passing the number of products, the empty *product_activities* list, and a flag (1) indicating that these are products. This function collects and calculates the activities for each product and populates the *product_activities* list.\n",
    "\n",
    "*Calculate Reaction Quotient:*<br>\n",
    "Finally, the function calls *quotient_reaction*, passing the lists reactant_activities and product_activities. This function computes the reaction quotient based on the collected activities of the reactants and products. The function *reactants_products\" is responsible for determining the number of reactants and products. The function *activities_concentration* collects the concentration or pressure data for the reactants or products and calculates their activities. This *quotient_reaction* function uses the activity values to calculate the reaction quotient.\n",
    "\n",
    "🔁**Return the Data**<br>\n",
    "The function does not return any values but performs the necessary calculations to determine the reaction quotient, which is typically used for further analysis in the context of chemical equilibrium studies.\n",
    "\n",
    "🚀**Let's Explore How this Function Works and See Examples of it in Action.** <br>\n",
    "Execute the cell below:"
   ]
  },
  {
   "cell_type": "code",
   "execution_count": null,
   "metadata": {},
   "outputs": [],
   "source": [
    "from Reaction_constant_concentration import calculate_concentration_constant\n",
    "calculate_concentration_constant()"
   ]
  },
  {
   "cell_type": "markdown",
   "metadata": {},
   "source": [
    "### 2.2 By Using the Activity"
   ]
  },
  {
   "cell_type": "markdown",
   "metadata": {},
   "source": [
    "These functions collectively form a system for calculating the equilibrium constant for a chemical reaction. Here is how they work together:\n",
    "\n",
    "📩**Initialize:**<br>\n",
    "The user is prompted to enter the number of reactants and products involved in the reaction (reactants_products function).For each reactant and product, the user provides information such as activity, stoichiometric coefficient, and type of compound (get_reactants_or_products_info function).If the user knows the activities directly, they can input them directly (main_activity function).\n",
    "\n",
    "\n",
    "⚙️**How does it work?**<br>\n",
    "*Activity Calculation:*<br>\n",
    "The activities of reactants and products are calculated based on the provided information (*calculate_reaction_quotient* function).\n",
    "\n",
    "*Quotient Calculation:*<br>\n",
    "The reaction quotient is calculated using the activities and stoichiometric coefficients of reactants and products (*calculate_reaction_quotient* function).\n",
    "\n",
    "*Equilibrium Constant Calculation:*<br>\n",
    "The equilibrium constant is calculated from the reaction quotient (quotient_reaction function).\n",
    "\n",
    "These functions work together to create a comprehensive system for calculating the equilibrium constant, allowing users to input data manually or provide it directly. The system ensures flexibility and ease of use in determining equilibrium constants for various chemical reactions.\n",
    "\n",
    "🚀**Let's Explore How this Function Works and See Examples of it in Action.** <br>\n",
    "Execute the cell below:"
   ]
  },
  {
   "cell_type": "code",
   "execution_count": null,
   "metadata": {},
   "outputs": [],
   "source": [
    "from Reaction_constant_activity import calculate_activity_constant\n",
    "calculate_activity_constant()"
   ]
  },
  {
   "cell_type": "markdown",
   "metadata": {},
   "source": [
    "## 3. Kinetics"
   ]
  },
  {
   "cell_type": "markdown",
   "metadata": {},
   "source": [
    "### 3.1 Main kinetics calculation"
   ]
  },
  {
   "cell_type": "markdown",
   "metadata": {},
   "source": [
    "The provided code defines several functions related to calculating and displaying reaction velocities. Here is an overview of how these functions work together:\n",
    "\n",
    "*display_graph(times, velocity, ylabel=None, title=None, color=None, label=None):*<br>\n",
    "This function displays a graph of velocity versus time using Matplotlib. It takes lists of time values and corresponding velocity values as input. Additional parameters such as ylabel, title, color, and label allow customization of the plot appearance. By default, it plots the velocity against time with appropriate labels and titles.\n",
    "\n",
    "*velocity_first(times, concentrations):*<br>\n",
    "This function calculates and displays the velocity of the reaction using the first method. It computes the velocity by taking the absolute difference in concentrations divided by the difference in time between consecutive data points. It then calls the display_graph function to visualize the calculated velocities.\n",
    "\n",
    "*velocity_second(concentrations, times):*<br>\n",
    "This function calculates and displays the velocity of the reaction using the second method. It computes the derivative of the concentration with respect to time using NumPy's gradient method. The absolute values of the derivatives represent the reaction velocities. It then calls the display_graph function to visualize the calculated velocities.\n",
    "\n",
    "*speed_main():*<br>\n",
    "This is the main function that orchestrates the calculation and display of reaction speeds. It first prompts the user to choose between two methods for calculating reaction speed: one using a formula and the other using the Python gradient method. Depending on the user's choice, it calls either the velocity_first or velocity_second function with the appropriate data obtained from the manual_or_read function, which allows the user to input data manually or read it from a file.\n",
    "\n",
    "Overall, these functions provide a flexible and interactive way to calculate and visualize reaction velocities using different methods. They offer users the option to choose the method that best suits their needs and data availability.\n",
    "\n",
    "🚀**Let's Explore How this Function Works and See Examples of it in Action.** <br>\n",
    "Execute the cell below:"
   ]
  },
  {
   "cell_type": "code",
   "execution_count": null,
   "metadata": {},
   "outputs": [],
   "source": [
    "from calculate_speed import speed_main\n",
    "speed_main()"
   ]
  },
  {
   "cell_type": "markdown",
   "metadata": {},
   "source": [
    "### 3.2 Instantaneous speed"
   ]
  },
  {
   "cell_type": "markdown",
   "metadata": {},
   "source": [
    "The instantaneous_main function calculates the instantaneous speed of a reaction at a specific time based on concentration-time data provided by the user. Here is how it works:\n",
    "\n",
    "📩**Initialise**:<br>\n",
    "The function first prompts the user to input time and concentration values or read them from a file using the manual_or_read function. It then asks the user to provide a specific time t, at which they want to calculate the instantaneous speed.\n",
    "\n",
    "⚙️**How Does it Work?:**<br>\n",
    "*Instantaneous Speed Calculation:*<br>\n",
    "Depending on the value of t, the function calculates the instantaneous speed using different methods. If t is at the beginning or end of the time range, the function approximates the derivative using the slope between two adjacent points. <br>\n",
    "If t corresponds to a local maximum or minimum in the concentration-time curve, the function sets the slope to 0.<br>\n",
    "Otherwise, it calculates the slope of the line passing through the two nearest points around time t. The function then computes the y-intercept of the line passing through the concentration at time t. It generates a polynomial function representing the derivative of the curve at time t. The equation of the line representing the derivative is displayed on the plot.\n",
    "\n",
    "*Plotting:*\n",
    "The function plots the original concentration-time data in red and the curve representing the derivative in blue. It displays the equation of the line representing the derivative on the plot. The plot includes labels for the x-axis, y-axis, and title.\n",
    "\n",
    "🔁**Return the Data:**<br>\n",
    "After displaying the plot, the function prints the calculated instantaneous speed at time t in units of molL⁻¹s⁻¹.\n",
    "\n",
    "Overall, *instantaneous_main* provides a visual representation of the reaction's instantaneous speed at a specific time, allowing users to analyze how the speed changes with time.\n",
    "\n",
    "🚀**Let's Explore How this Function Works and See Examples of it in Action.** <br>\n",
    "Execute the cell below:"
   ]
  },
  {
   "cell_type": "code",
   "execution_count": null,
   "metadata": {},
   "outputs": [],
   "source": [
    "from instantaneous_speed import instantaneous_main\n",
    "instantaneous_main()"
   ]
  },
  {
   "cell_type": "markdown",
   "metadata": {},
   "source": [
    "### 3.3 Reaction Order"
   ]
  },
  {
   "cell_type": "markdown",
   "metadata": {},
   "source": [
    "The *main_rate* function is the central component of this script, orchestrating the calculation, analysis, and visualization of data related to reaction rates. Here is an overview of how it works:\n",
    "\n",
    "📩**Initialize**:<br>\n",
    "The function first collects data on time and concentration from the user using the manual_or_read function.\n",
    "\n",
    "⚙️**How Does it Work?**<br>\n",
    "It calculates the derivatives of concentration with respect to time using the calculate_derivative function. The natural logarithm of concentrations is calculated using calculate_ln_concentration. Derivatives of the natural logarithm of concentrations are computed with derivative_ln. The inverse of concentrations is calculated using calculate_inverse_concentration. Derivatives of the inverse of concentrations with respect to time are computed using *calculate_derivative_of_inverse_concentration*.\n",
    "\n",
    "🔁**Return the Data**<br>\n",
    "*Table Generation:*<br>\n",
    "The function constructs a table displaying the collected data and derived values, rounded to four decimal places. Statistical analysis is performed on selected columns of the table to determine the most constant column, indicative of the reaction order. The most constant column index is used to infer the reaction order (zero, first, or second order).\n",
    "\n",
    "*Result Presentation:*<br>\n",
    "Based on the identified reaction order, the function provides the corresponding rate constant and potentially the half-reaction time. Rate constants are calculated by fitting appropriate mathematical models to the data:<br>\n",
    "    -For zero-order reactions, a linear fit is applied to concentration vs time.<br>\n",
    "    -For first-order reactions, a linear fit is applied to ln(concentration) vs time.<br>\n",
    "    -For second-order reactions, a linear fit is applied to 1/concentration vs time.<br>\n",
    "The function also offers the option to plot the concentration vs time graph and prompts the user for further analysis.\n",
    "\n",
    "*Graph Plotting:*<br>\n",
    "If requested by the user, the function plots the concentration as a function of time, providing visual insight into the reaction kinetics.\n",
    "\n",
    "Overall, *main_rate* offers a comprehensive toolkit for analyzing reaction rate data, enabling users to derive rate constants and infer reaction orders from experimental data.\n",
    "\n",
    "🚀**Let's Explore How this Function Works and See Examples of it in Action.** <br>\n",
    "Execute the cell below:"
   ]
  },
  {
   "cell_type": "code",
   "execution_count": null,
   "metadata": {},
   "outputs": [],
   "source": [
    "from reaction_order import main_rate\n",
    "main_rate()"
   ]
  },
  {
   "cell_type": "markdown",
   "metadata": {},
   "source": [
    "## 4. Balance Chemical Equations"
   ]
  },
  {
   "cell_type": "markdown",
   "metadata": {},
   "source": [
    "Chemical reactions are fundamental processes in chemistry. Balancing these reactions involves ensuring that the number of atoms of each element is the same on both sides of the reaction equation. This task can be challenging, especially for complex reactions.\n",
    "\n",
    "The function *BalanceEqUI* presented here offers a solution to this problem. The function provides a simple and straight forward console user interface, allowing users to enter the chemical equation of interest. First, reactants are entered, followed by the products. To switch to the next step, simply enter an asterisk. The balanced chemical equation, taking into account the minimal integer stoichiometric coefficients, will be printed in the console. If the reaction is impossible (i.e., one element misses on one side), it prints an error message.\n",
    "\n",
    "🚀**Let's explore how this function works and see examples of it in action.** <br>\n",
    "Execute the cell below to start the dialogue. For example, try to enter the combustion reaction of ethanol (i.e., enter *C2H5OH*, *O2* as reactants, enter an *\\** to switch to the products, and enter *H2O* followed by *O2*. It should then display the balanced equation as expected: <br><br>\n",
    "<center> C2H5OH + 3 O2 → 2 CO2 + 3 H2O </center>\n",
    "\n",
    "⚙️**How does it work?** <br>\n",
    "The function sets up a (*not necessarily square!*) matrix, reduces it, and extracts the  'pre-solution' vectors. The final solution to the corresponding system of equations is a linear combination of these vectors.\n",
    "\n",
    "📈**What difficulties did we encounter when developing this functionality?** <br>\n",
    "The science lies in correctly extracting the occurrences of an atom in each compound. This is done using an auxiliary *Decompose* function. Setting up the right matrix turned out to be not as easy as expected.\n",
    "\n",
    "🚩**Limitations** <br>\n",
    "The code might sometimes, though rarely, incorrectly classify the reaction as invalid. If this is the case, the re-entry of the same reaction should, however, give the correct result. *Where does this come from*, you might ask: We don't know... (the error appears arbitrarily)"
   ]
  },
  {
   "cell_type": "code",
   "execution_count": null,
   "metadata": {},
   "outputs": [
    {
     "name": "stdout",
     "output_type": "stream",
     "text": [
      "\u001b[1m\n",
      "Please enter your chemical reaction.\u001b[0m\n"
     ]
    }
   ],
   "source": [
    "from BalanceEq import BalanceEqUI\n",
    "BalanceEqUI()"
   ]
  },
  {
   "cell_type": "markdown",
   "metadata": {},
   "source": [
    "## 5. Molar Mass"
   ]
  },
  {
   "cell_type": "markdown",
   "metadata": {},
   "source": [
    "Effortlessly compute the molar mass of any compound with our intuitive tool. Boost your efficiency and accuracy in chemistry today! <br>\n",
    "Enter your compound of interest into the function *MolarMassUI* thanks to its intuitive console user interface. The molar mass will be printed in the console. <br>\n",
    "\n",
    "🚀**Let's explore how this function works and see examples of it in action.** <br>\n",
    "Execute the cell below to start the dialogue. For example, try to enter the formula for tartaric acid (i.e., enter *HOOC(CHOH)2COOH*. It should then display its molar mass as expected: <br><br>\n",
    "<center> 150.086 gmol⁻¹ </center>\n",
    "\n",
    "⚙️**How does it work?** <br>\n",
    "It sums the molar mass of each constituting atoms weighted by its occurences in the compound. The molar masse of each atom is encoded in a dictionary.\n",
    "\n",
    "📈**What difficulties did we encounter when developing this functionality?** <br>\n",
    "Here again, the science lies in correctly extracting the number of occurencies of an atom in each compound. This is again done using the auxiliary *Decompose* function."
   ]
  },
  {
   "cell_type": "code",
   "execution_count": null,
   "metadata": {},
   "outputs": [],
   "source": [
    "from MolarMass import MolarMassUI\n",
    "MolarMassUI()"
   ]
  },
  {
   "cell_type": "markdown",
   "metadata": {},
   "source": [
    "## 6. Concentration"
   ]
  },
  {
   "cell_type": "markdown",
   "metadata": {},
   "source": [
    "Quickly calculate solution concentrations with our easy-to-use tool. Designed for everyone, it simplifies chemistry tasks, ensuring accurate results every time. It provides three methods to assess concentration, through which you can navigate using the console user interface. You can evaluate the concentration using the mass, the number of moles of solute, or from dilution. <br>\n",
    "\n",
    "🚀**Let's explore how this function works and see examples of it in action.** <br>\n",
    "Execute the cell below to start the dialogue. What is the concentration of a 0.75 L solution containing 5 g of acetic acid (*CH3COOH*)? Find out by feeding this information to the function (select *mode 2*, calculations starting from mass of solute). It should then display the concentration as expected: <br><br>\n",
    "<center> 0.111 molL⁻¹ </center>\n",
    "\n",
    "⚙️**How does it work?** <br>\n",
    "The concentration is obtained by simple division of the number of moles of solute by the volume. Mass is converted into moles using the *MolarMass* function. When diluting a solution, the new concentration equals the initial concentration multiplied by the ratio of the initial and final volumes."
   ]
  },
  {
   "cell_type": "code",
   "execution_count": null,
   "metadata": {},
   "outputs": [],
   "source": [
    "from Concentration import ConcentrationUI\n",
    "ConcentrationUI()"
   ]
  },
  {
   "cell_type": "markdown",
   "metadata": {},
   "source": [
    "## 7. Concentration of H<sup>+</sup> Ions and pH"
   ]
  },
  {
   "cell_type": "markdown",
   "metadata": {},
   "source": [
    "Quickly determine acidity levels with our easy-to-use tool. This calculator simplifies pH calculations for accurate results every time. First, the solution's concentration is assessed in the same manner as in the *ConcentratioUI* function. Additionally, the pK<sub>a</sub> of the solute will be asked. This allows to evaluate the concentration of H<sup>+</sup> ions in solution, and from there, the pH is easily found.\n",
    "\n",
    "🚀**Let's explore how this function works and see examples of it in action.** <br>\n",
    "Execute the cell below to start the dialogue. For example, try to enter the same data as before (mode: 2, solute: *CH3COOH*, mass: 5 g, volume: 0.75 L) and additionally enter the solute's pK<sub>a</sub> (4.75 for acetic acid). It should then display the H<sup>+</sup> concentration as well as the pH as expected:<br><br>\n",
    "<center> [H<sup>+</sup>] = 0.001 molL⁻¹ <br> pH = 2.86 </center>\n",
    "\n",
    "⚙️**How does it work?** <br>\n",
    "The concentration of colute is evaluated using the same tools as in the *ConcentrationUI* function. From there, making the right approximations (i.e., neglecting water autprotolysis, weakly dissociated acid / base), the H<sup>+</sup> concentration can be found, and then $pH = -log_{10}\\left(\\frac{[H^+]}{c°}\\right)$.\n",
    "\n",
    "📈**What difficulties did we encounter when developing this functionality?** <br>\n",
    "The right approximations must be done at the right place! Distinguishing limiting cases based on pK<sub>a</sub> values can be sometimes ambiguous.\n",
    "\n",
    "🚩**Limitations** <br>\n",
    "The function only takes into account the first acid dissociation (pK<sub>a1</sub>), which is however a good approximating assumption for solutions containing only one solute."
   ]
  },
  {
   "cell_type": "code",
   "execution_count": null,
   "metadata": {},
   "outputs": [],
   "source": [
    "from HConcentration import HConcentrationUI\n",
    "HConcentrationUI()"
   ]
  },
  {
   "cell_type": "markdown",
   "metadata": {},
   "source": [
    "## 7. Titrations"
   ]
  },
  {
   "cell_type": "markdown",
   "metadata": {},
   "source": [
    "Discover the art of titration with ease using our intuitive tool. Perfect for students and enthusiasts, it visualizes titration curves, helping you grasp acid-base reactions and endpoints effortlessly. Explore titration like never before with our simulator.\n",
    "This tool enables the user to automatically trace titration curves with individual parameters. It displays the course of the pH of the solution as a function of $\\xi = \\frac{V_{TIT}}{V_{EQ}}$ (fractions of equivalence volume of titrant solution added). The initial concentrations of titrated solution will be evaluated as well.\n",
    "\n",
    "🚀**Let's explore how this function works and see examples of it in action.** <br>\n",
    "Execute the cell below to start the dialogue. For example, let's find the titration curve of tartaric acid (*HOOC(CHOH)2COOH*, pK<sub>a1</sub> = 3.04, pK<sub>a2</sub> = 4.37, volume: 0.100 L) by sodium hydroxide (*NaOH*, concentration: 0.010 M, equivalence volume: 0.035 L). Therefore, select mode 1 (titration of an acid by a (strong) base, which is our case) and enter the previous data as asked. The titration curve should then be displayed as expected: <br><br>\n",
    "<center>\n",
    "  <img src=\"https://github.com/philippeloe/moser/blob/main/assets/Tit1.png\" alt=\"Tittration Curve Example\" width=\"250\">\n",
    "</center>\n",
    "\n",
    "⚙️**How does it work?** <br>\n",
    "The function uses predefined auxiliary functions to calculate the pH as a function of $\\xi$. Note that for titrations of monoprotic substances, the shown graphs are generated with the analytic expression of the functions! For polyprotic acids, however, the graphs are generated by interpolation (this approach gave systematically better results). After evaluating the pH at some discrete characteristic points, sigmoid curves are fitted (using SciPy) piecewise through these points. Numpy and Matplotlib are used to generate the graphs and highlight equivalence points. \n",
    "\n",
    "📈**What difficulties did we encounter when developing this functionality?** <br>\n",
    "Generalising the functions to trace the graphs was challenging, spoken in terms of chemical and mathematical comprehension. Defining the general formula of both sigmoid curves for interpolation was also interesting. To master SciPy, a tool not seen in this class, took quite some time and lecture. \n",
    "\n",
    "🚩**Limitations** <br>\n",
    "The traced curves are as precise as possible. However, one should note that *reading* pH value at certain points on the curve might be prone to slight deviations."
   ]
  },
  {
   "cell_type": "code",
   "execution_count": null,
   "metadata": {},
   "outputs": [],
   "source": [
    "from Titration import TitrationUI\n",
    "TitrationUI()"
   ]
  },
  {
   "cell_type": "code",
   "execution_count": null,
   "metadata": {},
   "outputs": [],
   "source": []
  }
 ],
 "metadata": {
  "kernelspec": {
   "display_name": "Python 3 (ipykernel)",
   "language": "python",
   "name": "python3"
  },
  "language_info": {
   "codemirror_mode": {
    "name": "ipython",
    "version": 3
   },
   "file_extension": ".py",
   "mimetype": "text/x-python",
   "name": "python",
   "nbconvert_exporter": "python",
   "pygments_lexer": "ipython3",
   "version": "3.11.5"
  }
 },
 "nbformat": 4,
 "nbformat_minor": 2
}
